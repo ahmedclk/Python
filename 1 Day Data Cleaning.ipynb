{
 "cells": [
  {
   "cell_type": "markdown",
   "id": "772f7efb",
   "metadata": {},
   "source": [
    "Temel kütüphaneleri içeri aktarıyoruz."
   ]
  },
  {
   "cell_type": "code",
   "execution_count": 1,
   "id": "4b4d7639",
   "metadata": {},
   "outputs": [],
   "source": [
    "import numpy as np\n",
    "import pandas as pd"
   ]
  },
  {
   "cell_type": "markdown",
   "id": "39696bbc",
   "metadata": {},
   "source": [
    "Verimizi okuyoruz."
   ]
  },
  {
   "cell_type": "markdown",
   "id": "f8642e77",
   "metadata": {},
   "source": [
    "Verileri Kaggle üzerinden temin edebilirsiniz: https://www.kaggle.com/kkhandekar/cheapest-electric-cars"
   ]
  },
  {
   "cell_type": "code",
   "execution_count": 2,
   "id": "15776e1a",
   "metadata": {},
   "outputs": [],
   "source": [
    "df = pd.read_csv(\"data/Cheapestelectriccars.csv\")"
   ]
  },
  {
   "cell_type": "markdown",
   "id": "161fee1c",
   "metadata": {},
   "source": [
    "Şimdi verimize bir göza atalım.\n",
    "\n",
    "Bunun için **head()** fonksiyonunu kullanabiliriz. Verileri daha iyi görebilmek için **transpose (T)** ediyorum."
   ]
  },
  {
   "cell_type": "code",
   "execution_count": 3,
   "id": "b8e8a6ba",
   "metadata": {
    "scrolled": true
   },
   "outputs": [
    {
     "data": {
      "text/html": [
       "<div>\n",
       "<style scoped>\n",
       "    .dataframe tbody tr th:only-of-type {\n",
       "        vertical-align: middle;\n",
       "    }\n",
       "\n",
       "    .dataframe tbody tr th {\n",
       "        vertical-align: top;\n",
       "    }\n",
       "\n",
       "    .dataframe thead th {\n",
       "        text-align: right;\n",
       "    }\n",
       "</style>\n",
       "<table border=\"1\" class=\"dataframe\">\n",
       "  <thead>\n",
       "    <tr style=\"text-align: right;\">\n",
       "      <th></th>\n",
       "      <th>0</th>\n",
       "      <th>1</th>\n",
       "      <th>2</th>\n",
       "      <th>3</th>\n",
       "      <th>4</th>\n",
       "    </tr>\n",
       "  </thead>\n",
       "  <tbody>\n",
       "    <tr>\n",
       "      <th>Name</th>\n",
       "      <td>Opel Ampera-e</td>\n",
       "      <td>Renault Kangoo Maxi ZE 33</td>\n",
       "      <td>Nissan Leaf</td>\n",
       "      <td>Audi e-tron Sportback 55 quattro</td>\n",
       "      <td>Porsche Taycan Turbo S</td>\n",
       "    </tr>\n",
       "    <tr>\n",
       "      <th>Subtitle</th>\n",
       "      <td>Battery Electric Vehicle |       58 kWh</td>\n",
       "      <td>Battery Electric Vehicle |       31 kWh</td>\n",
       "      <td>Battery Electric Vehicle |       36 kWh</td>\n",
       "      <td>Battery Electric Vehicle |       86.5 kWh</td>\n",
       "      <td>Battery Electric Vehicle |       83.7 kWh</td>\n",
       "    </tr>\n",
       "    <tr>\n",
       "      <th>Acceleration</th>\n",
       "      <td>7.3 sec</td>\n",
       "      <td>22.4 sec</td>\n",
       "      <td>7.9 sec</td>\n",
       "      <td>5.7 sec</td>\n",
       "      <td>2.8 sec</td>\n",
       "    </tr>\n",
       "    <tr>\n",
       "      <th>TopSpeed</th>\n",
       "      <td>150 km/h</td>\n",
       "      <td>130 km/h</td>\n",
       "      <td>144 km/h</td>\n",
       "      <td>200 km/h</td>\n",
       "      <td>260 km/h</td>\n",
       "    </tr>\n",
       "    <tr>\n",
       "      <th>Range</th>\n",
       "      <td>335 km</td>\n",
       "      <td>160 km</td>\n",
       "      <td>220 km</td>\n",
       "      <td>375 km</td>\n",
       "      <td>390 km</td>\n",
       "    </tr>\n",
       "    <tr>\n",
       "      <th>Efficiency</th>\n",
       "      <td>173 Wh/km</td>\n",
       "      <td>194 Wh/km</td>\n",
       "      <td>164 Wh/km</td>\n",
       "      <td>231 Wh/km</td>\n",
       "      <td>215 Wh/km</td>\n",
       "    </tr>\n",
       "    <tr>\n",
       "      <th>FastChargeSpeed</th>\n",
       "      <td>210 km/h</td>\n",
       "      <td>-</td>\n",
       "      <td>230 km/h</td>\n",
       "      <td>600 km/h</td>\n",
       "      <td>860 km/h</td>\n",
       "    </tr>\n",
       "    <tr>\n",
       "      <th>Drive</th>\n",
       "      <td>Front Wheel Drive</td>\n",
       "      <td>Front Wheel Drive</td>\n",
       "      <td>Front Wheel Drive</td>\n",
       "      <td>All Wheel Drive</td>\n",
       "      <td>All Wheel Drive</td>\n",
       "    </tr>\n",
       "    <tr>\n",
       "      <th>NumberofSeats</th>\n",
       "      <td>5</td>\n",
       "      <td>5</td>\n",
       "      <td>5</td>\n",
       "      <td>5</td>\n",
       "      <td>4</td>\n",
       "    </tr>\n",
       "    <tr>\n",
       "      <th>PriceinGermany</th>\n",
       "      <td>€42,990</td>\n",
       "      <td>NaN</td>\n",
       "      <td>€29,990</td>\n",
       "      <td>NaN</td>\n",
       "      <td>€186,336</td>\n",
       "    </tr>\n",
       "    <tr>\n",
       "      <th>PriceinUK</th>\n",
       "      <td>NaN</td>\n",
       "      <td>£31,680</td>\n",
       "      <td>£25,995</td>\n",
       "      <td>£79,900</td>\n",
       "      <td>£138,830</td>\n",
       "    </tr>\n",
       "  </tbody>\n",
       "</table>\n",
       "</div>"
      ],
      "text/plain": [
       "                                                        0  \\\n",
       "Name                                       Opel Ampera-e    \n",
       "Subtitle         Battery Electric Vehicle |       58 kWh    \n",
       "Acceleration                                      7.3 sec   \n",
       "TopSpeed                                         150 km/h   \n",
       "Range                                              335 km   \n",
       "Efficiency                                      173 Wh/km   \n",
       "FastChargeSpeed                                  210 km/h   \n",
       "Drive                                   Front Wheel Drive   \n",
       "NumberofSeats                                           5   \n",
       "PriceinGermany                                    €42,990   \n",
       "PriceinUK                                             NaN   \n",
       "\n",
       "                                                        1  \\\n",
       "Name                            Renault Kangoo Maxi ZE 33   \n",
       "Subtitle         Battery Electric Vehicle |       31 kWh    \n",
       "Acceleration                                     22.4 sec   \n",
       "TopSpeed                                         130 km/h   \n",
       "Range                                              160 km   \n",
       "Efficiency                                      194 Wh/km   \n",
       "FastChargeSpeed                                         -   \n",
       "Drive                                   Front Wheel Drive   \n",
       "NumberofSeats                                           5   \n",
       "PriceinGermany                                        NaN   \n",
       "PriceinUK                                         £31,680   \n",
       "\n",
       "                                                        2  \\\n",
       "Name                                         Nissan Leaf    \n",
       "Subtitle         Battery Electric Vehicle |       36 kWh    \n",
       "Acceleration                                      7.9 sec   \n",
       "TopSpeed                                         144 km/h   \n",
       "Range                                              220 km   \n",
       "Efficiency                                      164 Wh/km   \n",
       "FastChargeSpeed                                  230 km/h   \n",
       "Drive                                   Front Wheel Drive   \n",
       "NumberofSeats                                           5   \n",
       "PriceinGermany                                    €29,990   \n",
       "PriceinUK                                         £25,995   \n",
       "\n",
       "                                                         3  \\\n",
       "Name                      Audi e-tron Sportback 55 quattro   \n",
       "Subtitle         Battery Electric Vehicle |       86.5 kWh   \n",
       "Acceleration                                       5.7 sec   \n",
       "TopSpeed                                          200 km/h   \n",
       "Range                                               375 km   \n",
       "Efficiency                                       231 Wh/km   \n",
       "FastChargeSpeed                                   600 km/h   \n",
       "Drive                                      All Wheel Drive   \n",
       "NumberofSeats                                            5   \n",
       "PriceinGermany                                         NaN   \n",
       "PriceinUK                                          £79,900   \n",
       "\n",
       "                                                         4  \n",
       "Name                                Porsche Taycan Turbo S  \n",
       "Subtitle         Battery Electric Vehicle |       83.7 kWh  \n",
       "Acceleration                                       2.8 sec  \n",
       "TopSpeed                                          260 km/h  \n",
       "Range                                               390 km  \n",
       "Efficiency                                       215 Wh/km  \n",
       "FastChargeSpeed                                   860 km/h  \n",
       "Drive                                      All Wheel Drive  \n",
       "NumberofSeats                                            4  \n",
       "PriceinGermany                                    €186,336  \n",
       "PriceinUK                                         £138,830  "
      ]
     },
     "execution_count": 3,
     "metadata": {},
     "output_type": "execute_result"
    }
   ],
   "source": [
    "df.head().T"
   ]
  },
  {
   "cell_type": "markdown",
   "id": "9c10c2e5",
   "metadata": {},
   "source": [
    "Verilerimizi incelediğimizde aşağıda belirtelen hususların düzeltilmesi gerekiyor. Çünkü bir çok sütun sayısal veri içermesi gerekirken hücrelerde sayısal olmayan değerler göze çarpıyor. Bu istediğimiz bir durum değil.\n",
    "\n",
    "* Name sütunundan marka adını yeni bir sütunda saklayabiliriz.\n",
    "* PriceinUK ve PriceinGermany sütunlarından €,£ sembollerini temizlemeliyiz.\n",
    "* FastChargeSpeed ve TopSpeed sütunlarından km/h ifadesini temizlemeliyiz. \n",
    "* Efficiency sütunundan Wh/km ifadesini temizlemeliyiz.\n",
    "* Range sütunundan km ifadesini temizlemeliyiz.\n",
    "* Acceleration sütunundan sec ifadesini temizlemeliyiz."
   ]
  },
  {
   "cell_type": "markdown",
   "id": "9c16d31e",
   "metadata": {},
   "source": [
    "**Exploratory Data Analysis**"
   ]
  },
  {
   "cell_type": "markdown",
   "id": "7974952a",
   "metadata": {},
   "source": [
    "Öncelikle sütun adlarımızı listeye dönüştürüp bir görelim"
   ]
  },
  {
   "cell_type": "code",
   "execution_count": 4,
   "id": "7484d3c0",
   "metadata": {
    "scrolled": true
   },
   "outputs": [
    {
     "name": "stdout",
     "output_type": "stream",
     "text": [
      "['Name', 'Subtitle', 'Acceleration', 'TopSpeed', 'Range', 'Efficiency', 'FastChargeSpeed', 'Drive', 'NumberofSeats', 'PriceinGermany', 'PriceinUK']\n"
     ]
    }
   ],
   "source": [
    "print(df.columns.tolist())"
   ]
  },
  {
   "cell_type": "markdown",
   "id": "cb75140a",
   "metadata": {},
   "source": [
    "kayıp değerleri ilk etapta \"0\" ile doldurmakta fayda var. Sonraki adımlarda yapacağımız temizleme işlemlerinde karşılaşacağımız olası problemleri önlemek için bu iyi bir adım olacaktır."
   ]
  },
  {
   "cell_type": "code",
   "execution_count": 5,
   "id": "0ff7cd01",
   "metadata": {},
   "outputs": [],
   "source": [
    "#filling empty data with 0\n",
    "df=df.fillna('0')"
   ]
  },
  {
   "cell_type": "markdown",
   "id": "36dfb1ee",
   "metadata": {},
   "source": [
    "name sütunundan marka değerini yeni bir sütunu atıyoruz."
   ]
  },
  {
   "cell_type": "code",
   "execution_count": 6,
   "id": "f30ff44c",
   "metadata": {},
   "outputs": [],
   "source": [
    "df['Manufacturer'] = df.Name.str.split(' ', 1, expand=True)[0]"
   ]
  },
  {
   "cell_type": "markdown",
   "id": "6f501f57",
   "metadata": {},
   "source": [
    "PriceinUK sütunundan £ sembolini kaldırıyoruz."
   ]
  },
  {
   "cell_type": "code",
   "execution_count": 7,
   "id": "11a13424",
   "metadata": {},
   "outputs": [],
   "source": [
    "PriceinUK=[]\n",
    "for item in df['PriceinUK']:\n",
    "    PriceinUK+=[int(item.replace('£','').replace(',',''))]\n",
    "df['PriceinUK']=PriceinUK"
   ]
  },
  {
   "cell_type": "markdown",
   "id": "7eed0538",
   "metadata": {},
   "source": [
    "PriceinGermany sütunundan € sembolünü kaldırıyoruz."
   ]
  },
  {
   "cell_type": "code",
   "execution_count": 8,
   "id": "73ef56e4",
   "metadata": {},
   "outputs": [],
   "source": [
    "PriceinGermany=[]\n",
    "for item in df['PriceinGermany']:\n",
    "    PriceinGermany+=[int(item.replace('€','').replace(',',''))]\n",
    "df['PriceinGermany']=PriceinGermany"
   ]
  },
  {
   "cell_type": "markdown",
   "id": "c71b4ca0",
   "metadata": {},
   "source": [
    "Benzer işlemi aynı yöntemle değerlerde olmasını istemediğimiz diğer ifadeler için aynı yöntemi **(replace)** kullanarak devam ediyoruz."
   ]
  },
  {
   "cell_type": "code",
   "execution_count": 9,
   "id": "699fe89d",
   "metadata": {},
   "outputs": [],
   "source": [
    "FastChargeSpeed=[]\n",
    "for item in df['FastChargeSpeed']:\n",
    "    FastChargeSpeed+=[int(item.replace(' km/h','').replace('-','0'))]\n",
    "df['FastChargeSpeed']=FastChargeSpeed"
   ]
  },
  {
   "cell_type": "code",
   "execution_count": 10,
   "id": "3f0a1a42",
   "metadata": {},
   "outputs": [],
   "source": [
    "Efficiency=[]\n",
    "for item in df['Efficiency']:\n",
    "    Efficiency+=[int(item.replace(' Wh/km',''))]\n",
    "df['Efficiency']=Efficiency"
   ]
  },
  {
   "cell_type": "code",
   "execution_count": 11,
   "id": "cc24d1dd",
   "metadata": {},
   "outputs": [],
   "source": [
    "Range=[]\n",
    "for item in df['Range']:\n",
    "    Range+=[int(item.replace(' km',''))]\n",
    "df['Range']=Range"
   ]
  },
  {
   "cell_type": "code",
   "execution_count": 12,
   "id": "4720521c",
   "metadata": {},
   "outputs": [],
   "source": [
    "TopSpeed=[]\n",
    "for item in df['TopSpeed']:\n",
    "    TopSpeed+=[int(item.replace(' km/h',''))]\n",
    "df['TopSpeed']=TopSpeed"
   ]
  },
  {
   "cell_type": "code",
   "execution_count": 13,
   "id": "57bc9697",
   "metadata": {},
   "outputs": [],
   "source": [
    "Acceleration=[]\n",
    "for item in df['Acceleration']:\n",
    "    Acceleration+=[float(item.replace(' sec',''))]\n",
    "df['Acceleration']=Acceleration"
   ]
  },
  {
   "cell_type": "code",
   "execution_count": 14,
   "id": "40d95588",
   "metadata": {},
   "outputs": [],
   "source": [
    "Subtitle=[]\n",
    "for item in df['Subtitle']:\n",
    "    Subtitle+=[float(item.replace('Battery Electric Vehicle | ','').replace(' kWh','').replace('      ',''))]\n",
    "df['Subtitle']=Subtitle"
   ]
  },
  {
   "cell_type": "markdown",
   "id": "1038b9b2",
   "metadata": {},
   "source": [
    "Son olarak Subtitle sütunun adını KWH olarak değiştiriyoruz. Çünkü bu sütunlarda tekrar eden 'Battery Electric Vehicle' ifadesini çıkardık. Geriye kalan sayısal değer ise aracın kWh değeri."
   ]
  },
  {
   "cell_type": "code",
   "execution_count": 16,
   "id": "eb9650a8",
   "metadata": {},
   "outputs": [],
   "source": [
    "df= df.rename(columns = {'Subtitle':'KWH'})"
   ]
  },
  {
   "cell_type": "code",
   "execution_count": null,
   "id": "4b147c98",
   "metadata": {},
   "outputs": [],
   "source": []
  }
 ],
 "metadata": {
  "kernelspec": {
   "display_name": "Python 3",
   "language": "python",
   "name": "python3"
  },
  "language_info": {
   "codemirror_mode": {
    "name": "ipython",
    "version": 3
   },
   "file_extension": ".py",
   "mimetype": "text/x-python",
   "name": "python",
   "nbconvert_exporter": "python",
   "pygments_lexer": "ipython3",
   "version": "3.8.8"
  }
 },
 "nbformat": 4,
 "nbformat_minor": 5
}
